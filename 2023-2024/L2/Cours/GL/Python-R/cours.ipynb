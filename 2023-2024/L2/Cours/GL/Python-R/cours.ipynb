{
 "cells": [
  {
   "cell_type": "code",
   "execution_count": null,
   "id": "9e9f5303-c299-4344-b4bf-5dd9ca8385ed",
   "metadata": {},
   "outputs": [],
   "source": [
    "lamda retourne une fonction"
   ]
  },
  {
   "cell_type": "code",
   "execution_count": 1,
   "id": "e9888b48-ae43-45d2-b09e-5c24047fd9b2",
   "metadata": {},
   "outputs": [
    {
     "name": "stdout",
     "output_type": "stream",
     "text": [
      "<function sqrt.<locals>.<lambda> at 0x0000028DEE1BA340>\n",
      "8\n"
     ]
    }
   ],
   "source": [
    "def sqrt(x:float)->float:\n",
    "    return lambda x: x**3\n",
    "\n",
    "result = sqrt(9)\n",
    "print(result) # ceci est une fonction\n",
    "print(result(2))"
   ]
  },
  {
   "cell_type": "code",
   "execution_count": null,
   "id": "2947ab5d-e3f0-4885-ad46-751b8aa4400a",
   "metadata": {},
   "outputs": [],
   "source": []
  },
  {
   "cell_type": "code",
   "execution_count": 10,
   "id": "d41cb27f-3fae-4e94-8cfc-3a90fe36fa03",
   "metadata": {},
   "outputs": [
    {
     "name": "stdout",
     "output_type": "stream",
     "text": [
      "5\n",
      "7\n"
     ]
    }
   ],
   "source": [
    "def new_make_sum():\n",
    "    items = [2]\n",
    "    count = 2\n",
    "    def inner_func(x:int):\n",
    "        nonlocal count\n",
    "        count = count + 3\n",
    "        print(count)\n",
    "        items.append(x)\n",
    "        return sum(items)\n",
    "    return inner_func\n",
    "\n",
    "sum_maker = new_make_sum()\n",
    "print(sum_maker(5))"
   ]
  },
  {
   "cell_type": "code",
   "execution_count": null,
   "id": "5036bf08-3ae8-4be9-b495-1086dbdb21f4",
   "metadata": {},
   "outputs": [],
   "source": [
    "Decorateur"
   ]
  },
  {
   "cell_type": "code",
   "execution_count": 3,
   "id": "03e3ff59-5ced-4a33-ab1b-1c8b26080a11",
   "metadata": {},
   "outputs": [
    {
     "name": "stdout",
     "output_type": "stream",
     "text": [
      "Log: Beginning\n",
      "Log: Ending\n",
      "9\n"
     ]
    }
   ],
   "source": [
    "def log_decorator(func):\n",
    "    def inner_func(x,y):\n",
    "        print(\"Log: Beginning\")\n",
    "        res = func(x, y)\n",
    "        print(\"Log: Ending\")\n",
    "        return res\n",
    "    return inner_func\n",
    "\n",
    "#decorated_func = log_decorator(decorated_func\n",
    "@log_decorator\n",
    "def decorated_func(x,y):\n",
    "    return x+y\n",
    "\n",
    "print(decorated_func(4,5))"
   ]
  },
  {
   "cell_type": "code",
   "execution_count": null,
   "id": "8188e680-3050-483b-ad95-4d050e3af2bb",
   "metadata": {},
   "outputs": [],
   "source": []
  },
  {
   "cell_type": "code",
   "execution_count": 2,
   "id": "a04025c5-d711-4159-a5fd-34c0edc6838c",
   "metadata": {},
   "outputs": [
    {
     "name": "stdout",
     "output_type": "stream",
     "text": [
      "2\n"
     ]
    }
   ],
   "source": [
    "def fib(n):\n",
    "    \"fib(5) = fib(4) + fib(3)\"\n",
    "    if n <= 1:\n",
    "        return 1\n",
    "    return fib(n-1) + fib(n-2)\n",
    "\n",
    "print(fib(2))"
   ]
  },
  {
   "cell_type": "code",
   "execution_count": null,
   "id": "db7d6316-9b15-4a89-a7b8-99eceeb80a72",
   "metadata": {},
   "outputs": [],
   "source": [
    "Memorization"
   ]
  },
  {
   "cell_type": "code",
   "execution_count": 7,
   "id": "59582cb1-27e3-41a4-87bd-868e0e037dfe",
   "metadata": {},
   "outputs": [
    {
     "name": "stdout",
     "output_type": "stream",
     "text": [
      "8670007398507948658051921\n"
     ]
    }
   ],
   "source": [
    "from functools import cache\n",
    "\n",
    "@cache\n",
    "def fib(n):\n",
    "    \"fib(5) = fib(4) + fib(3)\"\n",
    "    if n <= 1:\n",
    "        return 1\n",
    "    return fib(n-1) + fib(n-2)\n",
    "\n",
    "print(fib(120))"
   ]
  },
  {
   "cell_type": "code",
   "execution_count": null,
   "id": "5aa25733-709a-4fdd-a7d2-4d7e585ffe80",
   "metadata": {},
   "outputs": [],
   "source": []
  }
 ],
 "metadata": {
  "kernelspec": {
   "display_name": "Python 3 (ipykernel)",
   "language": "python",
   "name": "python3"
  },
  "language_info": {
   "codemirror_mode": {
    "name": "ipython",
    "version": 3
   },
   "file_extension": ".py",
   "mimetype": "text/x-python",
   "name": "python",
   "nbconvert_exporter": "python",
   "pygments_lexer": "ipython3",
   "version": "3.12.2"
  }
 },
 "nbformat": 4,
 "nbformat_minor": 5
}
